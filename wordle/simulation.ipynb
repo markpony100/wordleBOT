{
 "cells": [
  {
   "cell_type": "code",
   "execution_count": 11,
   "id": "7dac7ce3",
   "metadata": {},
   "outputs": [],
   "source": [
    "import sys\n",
    "sys.path.append('../data')\n",
    "from answer import dictionary #real_w\n",
    "from wordle import rand_select ,word_compare,end_game\n",
    "from scipy.stats import entropy\n",
    "import pandas as pd\n",
    "import random\n",
    "import time\n",
    "real_W = sorted(dictionary)\n",
    "pos_W =  sorted(dictionary)"
   ]
  },
  {
   "cell_type": "code",
   "execution_count": 2,
   "id": "09934d9f",
   "metadata": {},
   "outputs": [],
   "source": [
    "def word_compare_1d(target,w_lst):\n",
    "    '''word compare word to all words'''\n",
    "    re_lst=[]\n",
    "    for word in w_lst:\n",
    "        re_lst.append(word_compare(target,word))\n",
    "    return re_lst\n",
    "\n",
    "def gen_table(w_lst1,w_lst2):\n",
    "    '''\n",
    "    gen lst1*lst2 table\n",
    "    \n",
    "    '''\n",
    "    word_table={}\n",
    "    for w1 in w_lst1:\n",
    "        word_table[w1] = word_compare_1d(w1,w_lst2)\n",
    "    return word_table"
   ]
  },
  {
   "cell_type": "code",
   "execution_count": 3,
   "id": "3a1c75f2",
   "metadata": {},
   "outputs": [],
   "source": [
    "def best_entropy(table,step=0):\n",
    "    best = -1\n",
    "    best_w =''\n",
    "    for idx,key in enumerate(table):\n",
    "        entro_score = entropy(table[key].value_counts().values/len(table),base=2)\n",
    "        if entro_score>best:\n",
    "            best = entro_score\n",
    "            best_w = key\n",
    "    #print(\"best word: {}, score: {}\".format(best_w,best))\n",
    "    return best_w"
   ]
  },
  {
   "cell_type": "code",
   "execution_count": 4,
   "id": "33d4e4ed",
   "metadata": {},
   "outputs": [],
   "source": [
    "def sub_table(table, guess_w, row_idx, answer):\n",
    "    sub_s = table[guess_w] \n",
    "    hint = word_compare(guess_w,answer)\n",
    "    match_s = (sub_s[sub_s == hint])#matched rows in series\n",
    "    cand = table.columns[match_s.index]# candidates in list\n",
    "    re_table = table[cand].iloc[list(match_s.index)]\n",
    "    return re_table.reset_index(drop=True)"
   ]
  },
  {
   "cell_type": "code",
   "execution_count": null,
   "id": "c6e134c4",
   "metadata": {},
   "outputs": [],
   "source": [
    "def guess(table,row_idx,step=0):\n",
    "    '''\n",
    "    step 0 -> find best entropy within raw table\n",
    "    step > find best entropy within filtered table\n",
    "    n*m tabel \n",
    "    n -> pos_w (table.column)\n",
    "    m -> real_w\n",
    "    '''\n",
    "    guess_w = best_entropy(table)\n",
    "    re_table = sub_table(table,guess_w,row_idx,ans)\n",
    "    \n",
    "    return re_table\n",
    "        "
   ]
  },
  {
   "cell_type": "code",
   "execution_count": 5,
   "id": "623ca51f",
   "metadata": {},
   "outputs": [],
   "source": [
    "table =  pd.DataFrame(gen_table(real_W,real_W))"
   ]
  },
  {
   "cell_type": "code",
   "execution_count": 16,
   "id": "b11594db",
   "metadata": {
    "scrolled": true
   },
   "outputs": [
    {
     "name": "stdout",
     "output_type": "stream",
     "text": [
      "average guess:  3.614254859611231\n",
      "tooks 1187.8257689476013 sec to run 2315 turns\n"
     ]
    }
   ],
   "source": [
    "start = time.time()\n",
    "total_count=[]\n",
    "turns = 2315 # 做n次\n",
    "for turn in range(turns):\n",
    "    condition = False\n",
    "    ans = real_W[turn]\n",
    "    t = table.copy()\n",
    "    count = 0\n",
    "    while(condition==False):\n",
    "        gue = best_entropy(t)\n",
    "        t = sub_table(t,gue,real_W,ans)\n",
    "        #print(len(t))\n",
    "        hint = word_compare(gue,ans)\n",
    "        #print(\"hint: \",hint)\n",
    "        count+=1\n",
    "        condition = end_game(hint)\n",
    "    total_count.append(count)\n",
    "end = time.time()\n",
    "print(\"average guess: \", sum(total_count)/turns)\n",
    "print(\"tooks {} sec to run {} turns\".format(end-start,turns))"
   ]
  },
  {
   "cell_type": "code",
   "execution_count": 19,
   "id": "56fd013a",
   "metadata": {},
   "outputs": [],
   "source": [
    "analysis = {}\n",
    "for elem in set(total_count):\n",
    "    analysis[str(elem)]= total_count.count(elem)"
   ]
  },
  {
   "cell_type": "code",
   "execution_count": 20,
   "id": "cb72ceda",
   "metadata": {},
   "outputs": [
    {
     "data": {
      "text/plain": [
       "{'1': 1, '2': 131, '3': 978, '4': 928, '5': 217, '6': 49, '7': 9, '8': 2}"
      ]
     },
     "execution_count": 20,
     "metadata": {},
     "output_type": "execute_result"
    }
   ],
   "source": [
    "analysis"
   ]
  },
  {
   "cell_type": "code",
   "execution_count": 21,
   "id": "bdf34587",
   "metadata": {},
   "outputs": [],
   "source": [
    "complete_rate = (2315 - 11)/2315\n",
    "excelency = (1+131)/2315"
   ]
  },
  {
   "cell_type": "code",
   "execution_count": 23,
   "id": "87bbbaff",
   "metadata": {},
   "outputs": [
    {
     "name": "stdout",
     "output_type": "stream",
     "text": [
      "complete_rate: 0.9952483801295896, excelency: 0.05701943844492441, fail_rate: 0.004751619870410395\n"
     ]
    }
   ],
   "source": [
    "print(\"complete_rate: {}, excelency: {}, fail_rate: {}\".format(complete_rate,excelency,1-complete_rate))"
   ]
  },
  {
   "cell_type": "code",
   "execution_count": null,
   "id": "2cb90d30",
   "metadata": {},
   "outputs": [],
   "source": []
  }
 ],
 "metadata": {
  "kernelspec": {
   "display_name": "Python 3 (ipykernel)",
   "language": "python",
   "name": "python3"
  },
  "language_info": {
   "codemirror_mode": {
    "name": "ipython",
    "version": 3
   },
   "file_extension": ".py",
   "mimetype": "text/x-python",
   "name": "python",
   "nbconvert_exporter": "python",
   "pygments_lexer": "ipython3",
   "version": "3.8.10"
  }
 },
 "nbformat": 4,
 "nbformat_minor": 5
}
