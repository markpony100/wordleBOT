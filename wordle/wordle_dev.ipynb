{
 "cells": [
  {
   "cell_type": "markdown",
   "id": "11c461cb",
   "metadata": {},
   "source": [
    "# 建立wordleBOT\n",
    "## 遊戲程式\n",
    "1. ans_dic, pos_dic\n",
    "2. rand_answer(ans_dic)\n",
    "3. guess()\n",
    "4. word_compare()\n",
    "\n"
   ]
  },
  {
   "cell_type": "code",
   "execution_count": 7,
   "id": "0701c4c9",
   "metadata": {},
   "outputs": [],
   "source": [
    "import sys\n",
    "sys.path.append('../data')\n",
    "from answer import dictionary #real_w\n",
    "import random\n",
    "real_w = dictionary\n",
    "pos_w = dictionary"
   ]
  },
  {
   "cell_type": "code",
   "execution_count": 8,
   "id": "0777bdbf",
   "metadata": {},
   "outputs": [],
   "source": [
    "def set_ans(real_w):\n",
    "    return random.choice(real_w)\n",
    "def letter_count(word):\n",
    "    '''couting words return dict'''\n",
    "    return {elem:word.count(elem) for elem in set(word)}\n",
    "def guess_valid(word,dic):\n",
    "    return word in dic\n",
    "def guess(dic):\n",
    "    condition = False\n",
    "    while(condition==False):\n",
    "        re = input()\n",
    "        condition = guess_valid(re,dic)\n",
    "        if not condition:\n",
    "            print(\"Ivalid guess\")\n",
    "    return re"
   ]
  },
  {
   "cell_type": "code",
   "execution_count": 9,
   "id": "4acf5ced",
   "metadata": {},
   "outputs": [],
   "source": [
    "def word_compare(guess,target):\n",
    "    '''\n",
    "    2 step check, word counting check then position check\n",
    "    '''\n",
    "    target_count = letter_count(target)\n",
    "    re =\"\"\n",
    "    for idx,elem in enumerate(guess):\n",
    "        if elem == target[idx]:#position and word match\n",
    "            re+=\"2\"\n",
    "        elif elem in target_count.keys() and target_count[elem]>0:#word match\n",
    "            target_count[elem]-=1\n",
    "            re+=\"1\"         \n",
    "        else: re+=\"0\"#no match\n",
    "    return re"
   ]
  },
  {
   "cell_type": "code",
   "execution_count": 14,
   "id": "c74bc78e",
   "metadata": {},
   "outputs": [],
   "source": [
    "def end_game(result):\n",
    "    if len(set(result))==1 and result[0]==\"2\":\n",
    "        print(\"game ends!\")\n",
    "        return True\n",
    "    return False"
   ]
  },
  {
   "cell_type": "code",
   "execution_count": 15,
   "id": "bf22810d",
   "metadata": {},
   "outputs": [
    {
     "name": "stdout",
     "output_type": "stream",
     "text": [
      "basal\n",
      "basal\n",
      "22222\n",
      "game ends!\n"
     ]
    }
   ],
   "source": [
    "condition = False\n",
    "ans = set_ans(real_w)\n",
    "print(ans)\n",
    "while(condition==False):\n",
    "    gue = guess(pos_w)\n",
    "    hint = word_compare(gue,ans)\n",
    "    print(hint)\n",
    "    condition = end_game(hint)"
   ]
  },
  {
   "cell_type": "code",
   "execution_count": null,
   "id": "c5d73a53",
   "metadata": {},
   "outputs": [],
   "source": []
  }
 ],
 "metadata": {
  "kernelspec": {
   "display_name": "Python 3 (ipykernel)",
   "language": "python",
   "name": "python3"
  },
  "language_info": {
   "codemirror_mode": {
    "name": "ipython",
    "version": 3
   },
   "file_extension": ".py",
   "mimetype": "text/x-python",
   "name": "python",
   "nbconvert_exporter": "python",
   "pygments_lexer": "ipython3",
   "version": "3.7.3"
  }
 },
 "nbformat": 4,
 "nbformat_minor": 5
}
