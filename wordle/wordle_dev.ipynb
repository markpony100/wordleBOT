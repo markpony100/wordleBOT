{
 "cells": [
  {
   "cell_type": "markdown",
   "id": "e46dfe5a",
   "metadata": {},
   "source": [
    "# 建立wordleBOT\n",
    "## 遊戲程式\n",
    "1. ans_dic, pos_dic\n",
    "2. rand_answer(ans_dic)\n",
    "3. guess()\n",
    "4. word_compare()\n",
    "\n"
   ]
  },
  {
   "cell_type": "code",
   "execution_count": 1,
   "id": "158cfd9e",
   "metadata": {},
   "outputs": [],
   "source": [
    "import sys\n",
    "sys.path.append('../data')\n",
    "from answer import dictionary #real_w\n",
    "import random\n",
    "real_w = dictionary\n",
    "pos_w = dictionary"
   ]
  },
  {
   "cell_type": "code",
   "execution_count": 2,
   "id": "3a435196",
   "metadata": {},
   "outputs": [],
   "source": [
    "def set_ans(real_w):\n",
    "    return random.choice(real_w)\n",
    "def letter_count(word):\n",
    "    '''couting words return dict'''\n",
    "    return {elem:word.count(elem) for elem in set(word)}\n",
    "def guess(pos_dic):\n",
    "    condition= True\n",
    "    while(condition):\n",
    "        re = input()\n",
    "        if re in pos_dic:\n",
    "            condition=False\n",
    "        else:\n",
    "            print(\"Ivalid guess\")\n",
    "    return re"
   ]
  },
  {
   "cell_type": "code",
   "execution_count": 3,
   "id": "5288aeea",
   "metadata": {},
   "outputs": [],
   "source": [
    "def word_compare(guess,target):\n",
    "    '''\n",
    "    2 step check, word counting check then position check\n",
    "    '''\n",
    "    target_count = letter_count(target)\n",
    "    re =\"\"\n",
    "    for idx,elem in enumerate(guess):\n",
    "        if elem == target[idx]:\n",
    "            re+=\"2\"\n",
    "        elif elem in target_count.keys() and target_count[elem]>0:\n",
    "            target_count[elem]-=1\n",
    "            re+=\"1\"\n",
    "            \n",
    "        else: re+=\"0\"\n",
    "    return re\n"
   ]
  },
  {
   "cell_type": "code",
   "execution_count": 4,
   "id": "f1650a6f",
   "metadata": {},
   "outputs": [],
   "source": [
    "def end_game(hint):\n",
    "    if len(set(hint))==1 and hint[0]==2:\n",
    "        print(\"game ends!\")\n",
    "        return False\n",
    "    return True"
   ]
  },
  {
   "cell_type": "code",
   "execution_count": null,
   "id": "9b64855c",
   "metadata": {},
   "outputs": [
    {
     "name": "stdout",
     "output_type": "stream",
     "text": [
      "modem\n",
      "crane\n",
      "00001\n",
      "flare\n",
      "00001\n",
      "media\n",
      "21200\n",
      "sander\n",
      "Ivalid guess\n",
      "blender\n",
      "Ivalid guess\n",
      "spoke\n",
      "00101\n",
      "soers\n",
      "Ivalid guess\n",
      "sores\n",
      "Ivalid guess\n"
     ]
    }
   ],
   "source": [
    "condition =True\n",
    "ans = set_ans(real_w)\n",
    "print(ans)\n",
    "while(condition):\n",
    "    gue = guess(pos_w)\n",
    "    hint = word_compare(gue,ans)\n",
    "    print(hint)\n",
    "    condition = end_game(hint)"
   ]
  },
  {
   "cell_type": "code",
   "execution_count": null,
   "id": "9c9a1b61",
   "metadata": {},
   "outputs": [],
   "source": [
    "a = input()"
   ]
  },
  {
   "cell_type": "code",
   "execution_count": null,
   "id": "d20f2b83",
   "metadata": {},
   "outputs": [],
   "source": [
    "a"
   ]
  },
  {
   "cell_type": "code",
   "execution_count": null,
   "id": "cec59c3f",
   "metadata": {},
   "outputs": [],
   "source": [
    "{elem:idx for elem,idx in enumerate((\"12345\"))}"
   ]
  },
  {
   "cell_type": "code",
   "execution_count": null,
   "id": "e1c1485d",
   "metadata": {},
   "outputs": [],
   "source": []
  }
 ],
 "metadata": {
  "kernelspec": {
   "display_name": "Python 3 (ipykernel)",
   "language": "python",
   "name": "python3"
  },
  "language_info": {
   "codemirror_mode": {
    "name": "ipython",
    "version": 3
   },
   "file_extension": ".py",
   "mimetype": "text/x-python",
   "name": "python",
   "nbconvert_exporter": "python",
   "pygments_lexer": "ipython3",
   "version": "3.7.3"
  }
 },
 "nbformat": 4,
 "nbformat_minor": 5
}
